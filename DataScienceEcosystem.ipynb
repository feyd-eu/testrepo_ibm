{
 "cells": [
  {
   "cell_type": "markdown",
   "id": "2bd11c2e",
   "metadata": {},
   "source": [
    "# Data Science Tools and Ecosystem"
   ]
  },
  {
   "cell_type": "markdown",
   "id": "a612ff6c",
   "metadata": {},
   "source": [
    "In this notebook, Data Science Tools and Ecosystem are summarized."
   ]
  },
  {
   "cell_type": "markdown",
   "id": "27914736",
   "metadata": {},
   "source": [
    "Some of the popular languages that Data Scientists use are:\n",
    "1. Python\n",
    "2. R\n",
    "3. Julia\n",
    "4. Java\n",
    "5. C\n",
    "6. Scala"
   ]
  },
  {
   "cell_type": "markdown",
   "id": "a9ad3342",
   "metadata": {},
   "source": [
    "Some of the commonly used libraries used by Data Scientists include:\n",
    "1. Pandas\n",
    "2. NumPy\n",
    "3. Matplotlib\n",
    "4. SciPy"
   ]
  },
  {
   "cell_type": "markdown",
   "id": "e3ac9b08",
   "metadata": {},
   "source": [
    "|Data Science Tools|\n",
    "|-----------------------------|\n",
    "|RStudio|\n",
    "|TesnorFlow|\n",
    "|ApacheSpark|"
   ]
  },
  {
   "cell_type": "markdown",
   "id": "4a8cda0b",
   "metadata": {},
   "source": [
    "### Below are a few examples of evaluating arithmetic expressions in Python"
   ]
  },
  {
   "cell_type": "code",
   "execution_count": 8,
   "id": "da7c9fd2",
   "metadata": {},
   "outputs": [
    {
     "data": {
      "text/plain": [
       "17"
      ]
     },
     "execution_count": 8,
     "metadata": {},
     "output_type": "execute_result"
    }
   ],
   "source": [
    "#  This a simple arithmetic expression to mutiply then add integers\n",
    "\n",
    "(3*4)+5"
   ]
  },
  {
   "cell_type": "code",
   "execution_count": 6,
   "id": "a3f10445",
   "metadata": {},
   "outputs": [
    {
     "name": "stdout",
     "output_type": "stream",
     "text": [
      "200 minutes is 3.33 hours\n"
     ]
    }
   ],
   "source": [
    "# This will convert 200 minutes to hours by diving by 60.\n",
    "\n",
    "hours = 200/60\n",
    "hours = round(hours, 2)\n",
    "print(f'200 minutes is {hours} hours')"
   ]
  },
  {
   "cell_type": "markdown",
   "id": "488a5cd7",
   "metadata": {},
   "source": [
    "**Objectives:**\n",
    "- List some of the popular languages that Data Scientists use\n",
    "- List some of the commonly used libraries used by Data Scientists\n",
    "- List three development environment open source tools used in data science"
   ]
  },
  {
   "cell_type": "markdown",
   "id": "c79ebbe0",
   "metadata": {},
   "source": [
    "## Author\n",
    "Thea G."
   ]
  },
  {
   "cell_type": "code",
   "execution_count": null,
   "id": "9b34e200",
   "metadata": {},
   "outputs": [],
   "source": []
  }
 ],
 "metadata": {
  "kernelspec": {
   "display_name": "Python 3 (ipykernel)",
   "language": "python",
   "name": "python3"
  },
  "language_info": {
   "codemirror_mode": {
    "name": "ipython",
    "version": 3
   },
   "file_extension": ".py",
   "mimetype": "text/x-python",
   "name": "python",
   "nbconvert_exporter": "python",
   "pygments_lexer": "ipython3",
   "version": "3.11.4"
  }
 },
 "nbformat": 4,
 "nbformat_minor": 5
}
